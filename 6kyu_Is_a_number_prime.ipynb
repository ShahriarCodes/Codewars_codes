{
 "cells": [
  {
   "cell_type": "raw",
   "metadata": {},
   "source": [
    "Method 1\n",
    "Let us now go with the very first function to check whether a number, say n, is prime or not. In this method, we will test all divisors from 2 to n-1. We will skip 1 and n. If n is divisible by any of the divisor, the function will return False, else True.\n",
    "Following are the steps used in this method:\n",
    "\n",
    "If the integer is less than equal to 1, it returns False.\n",
    "If the given number is divisible by any of the numbers from 2 to n, the function will return False\n",
    "Else it will return True"
   ]
  },
  {
   "cell_type": "markdown",
   "metadata": {},
   "source": [
    "Method 1\n",
    "Let us now go with the very first function to check whether a number, say n, is prime or not. In this method, we will test all divisors from 2 to n-1. We will skip 1 and n. If n is divisible by any of the divisor, the function will return False, else True.\n",
    "Following are the steps used in this method:\n",
    "\n",
    "1. If the integer is less than equal to 1, it returns False.\n",
    "2. If the given number is divisible by any of the numbers from 2 to n, the function will return False\n",
    "3. Else it will return True"
   ]
  },
  {
   "cell_type": "code",
   "execution_count": 1,
   "metadata": {},
   "outputs": [
    {
     "output_type": "stream",
     "name": "stdout",
     "text": "Total prime numbers in range : 9592\nTime required : 29.75880241394043\n"
    }
   ],
   "source": [
    "import time \n",
    "def is_prime(n): \n",
    "    if n <= 1: \n",
    "        return False\n",
    "    for i in range(2,n): \n",
    "        if n % i == 0: \n",
    "            return False\n",
    "    return True\n",
    "  \n",
    "# Driver function \n",
    "t0 = time.time() \n",
    "c = 0 #for counting \n",
    "  \n",
    "for n in range(1,100000): \n",
    "    x = is_prime(n) \n",
    "    c += x \n",
    "print(\"Total prime numbers in range :\", c) \n",
    "  \n",
    "t1 = time.time() \n",
    "print(\"Time required :\", t1 - t0) "
   ]
  },
  {
   "cell_type": "markdown",
   "metadata": {},
   "source": [
    "Method 2\n",
    "In this method, we use a simple trick by reducing the number of divisors we check for. We have found that there is a fine line which acts as the mirror as shows the factorization below the line and factorization above the line just in reverse order. The line which divided the factors into two halves is the line of the square root of the number. If the number is a perfect square, we can shift the line by 1 and if we can get the integer value of the line which divides.\n",
    "\n",
    "36=1*36          \n",
    "  =2*18\n",
    "  =3*12\n",
    "  =4*9\n",
    "------------\n",
    "  =6*6\n",
    "------------\n",
    "  =9*4\n",
    "  =12*3\n",
    "  =18*2\n",
    "  =36*1\n",
    "In this function, we calculate an integer, say max_div, which is the square root of the number and get its floor value using the math library of Python. In the last example, we iterate from 2 to n-1. But in this, we reduce the divisors by half as shown. You need to import the math module to get the floor and sqrt function.\n",
    "Following are the steps used in this method:\n",
    "\n",
    "If the integer is less than equal to 1, it returns False.\n",
    "Now, we reduce the numbers which needs to be checked to the square root of the given number.\n",
    "If the given number is divisible by any of the numbers from 2 to the square root of the number, the function will return False\n",
    "Else it will return True"
   ]
  },
  {
   "cell_type": "code",
   "execution_count": 3,
   "metadata": {},
   "outputs": [
    {
     "name": "stdout",
     "output_type": "stream",
     "text": [
      "Total prime numbers in range : 9592\n",
      "Time required : 0.1832730770111084\n"
     ]
    }
   ],
   "source": [
    "# Python Program to find prime numbers in a range \n",
    "import math \n",
    "import time \n",
    "def is_prime(n): \n",
    "    if n <= 1: \n",
    "        return False\n",
    "  \n",
    "    max_div = math.floor(math.sqrt(n)) \n",
    "    for i in range(2, 1 + max_div): \n",
    "        if n % i == 0: \n",
    "            return False\n",
    "    return True\n",
    "  \n",
    "# Driver function \n",
    "t0 = time.time() \n",
    "c = 0 #for counting \n",
    "  \n",
    "for n in range(1,100000): \n",
    "    x = is_prime(n) \n",
    "    c += x \n",
    "print(\"Total prime numbers in range :\", c) \n",
    "  \n",
    "t1 = time.time() \n",
    "print(\"Time required :\", t1 - t0) "
   ]
  },
  {
   "cell_type": "markdown",
   "metadata": {},
   "source": [
    "Method 3\n",
    "Now, we will optimize our code to next level which takes lesser time than the previous method. You might have noticed that in the last example, we iterated through every even number up to the limit which was a waste. The thing to notice is that all the even numbers except two can not be prime number. In this method, we kick out all the even numbers to optimize our code and will check only the odd divisors.\n",
    "Following are the steps used in this method:\n",
    "\n",
    "If the integer is less than equal to 1, it returns False.\n",
    "If the number is equal to 2, it will return True.\n",
    "If the number is greater than 2 and divisible by 2, then it will return False.\n",
    "Now, we have checked all the even numbers. Now, look for the odd numbers.\n",
    "If the given number is divisible by any of the numbers from 3 to the square root of the number skipping all the even numbers, the function will return False\n",
    "Else it will return True"
   ]
  },
  {
   "cell_type": "code",
   "execution_count": 4,
   "metadata": {},
   "outputs": [
    {
     "name": "stdout",
     "output_type": "stream",
     "text": [
      "Total prime numbers in range : 9592\n",
      "Time required : 0.10866141319274902\n"
     ]
    }
   ],
   "source": [
    "# Python Program to find prime numbers in a range \n",
    "import math \n",
    "import time \n",
    "def is_prime(n): \n",
    "    if n <= 1: \n",
    "        return False\n",
    "    if n == 2: \n",
    "        return True\n",
    "    if n > 2 and n % 2 == 0: \n",
    "        return False\n",
    "  \n",
    "    max_div = math.floor(math.sqrt(n)) \n",
    "    for i in range(3, 1 + max_div, 2): \n",
    "        if n % i == 0: \n",
    "            return False\n",
    "    return True\n",
    "  \n",
    "# Driver function \n",
    "t0 = time.time() \n",
    "c = 0 #for counting \n",
    "  \n",
    "for n in range(1,100000): \n",
    "    x = is_prime(n) \n",
    "    c += x \n",
    "print(\"Total prime numbers in range :\", c) \n",
    "  \n",
    "t1 = time.time() \n",
    "print(\"Time required :\", t1 - t0) "
   ]
  },
  {
   "cell_type": "markdown",
   "metadata": {},
   "source": [
    "Sieve Method\n",
    "This method prints all the primes smaller than or equal to a given number, n. For example, if n is 10, the output should be “2, 3, 5, 7”. If n is 20, the output should be “2, 3, 5, 7, 11, 13, 17, 19”.\n",
    "This method is considered to be the most efficient method to generate all the primes smaller than the given number, n. It is considered as the fastest method of all to generate a list of prime numbers. This method is not suited to check for a particular number. This method is preferred for generating the list of all the prime numbers."
   ]
  },
  {
   "cell_type": "code",
   "execution_count": null,
   "metadata": {},
   "outputs": [],
   "source": [
    "# Python Program to find prime numbers in a range \n",
    "import time \n",
    "def SieveOfEratosthenes(n): \n",
    "       \n",
    "    # Create a boolean array \"prime[0..n]\" and  \n",
    "    # initialize all entries it as true. A value  \n",
    "    # in prime[i] will finally be false if i is \n",
    "    # Not a prime, else true. \n",
    "    prime = [True for i in range(n+1)] \n",
    "      \n",
    "    p = 2\n",
    "    while(p * p <= n): \n",
    "           \n",
    "        # If prime[p] is not changed, then it is  \n",
    "       # a prime \n",
    "        if (prime[p] == True): \n",
    "               \n",
    "            # Update all multiples of p \n",
    "            for i in range(p * 2, n + 1, p): \n",
    "                prime[i] = False\n",
    "        p += 1\n",
    "    c = 0\n",
    "  \n",
    "    # Print all prime numbers \n",
    "    for p in range(2, n): \n",
    "        if prime[p]: \n",
    "            c += 1\n",
    "    return c \n",
    "  \n",
    "# Driver function \n",
    "t0 = time.time() \n",
    "c = SieveOfEratosthenes(100000) \n",
    "print(\"Total prime numbers in range:\", c) \n",
    "  \n",
    "t1 = time.time() \n",
    "print(\"Time required:\", t1 - t0) \n"
   ]
  },
  {
   "cell_type": "code",
   "execution_count": null,
   "metadata": {},
   "outputs": [],
   "source": []
  }
 ],
 "metadata": {
  "kernelspec": {
   "display_name": "Python 3",
   "language": "python",
   "name": "python3"
  },
  "language_info": {
   "codemirror_mode": {
    "name": "ipython",
    "version": 3
   },
   "file_extension": ".py",
   "mimetype": "text/x-python",
   "name": "python",
   "nbconvert_exporter": "python",
   "pygments_lexer": "ipython3",
   "version": "3.7.4-final"
  }
 },
 "nbformat": 4,
 "nbformat_minor": 2
}