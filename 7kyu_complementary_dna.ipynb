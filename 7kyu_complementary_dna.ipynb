{
 "cells": [
  {
   "cell_type": "code",
   "execution_count": 23,
   "metadata": {},
   "outputs": [
    {
     "output_type": "stream",
     "name": "stdout",
     "text": "ATCG\n"
    }
   ],
   "source": [
    "a = \"ATCG\"\n",
    "print(a)"
   ]
  },
  {
   "cell_type": "code",
   "execution_count": 28,
   "metadata": {},
   "outputs": [
    {
     "output_type": "stream",
     "name": "stdout",
     "text": "T\nA\nG\nC\n"
    }
   ],
   "source": [
    "for i in range(0,len(a)):\n",
    "    if a[i] == 'A':\n",
    "        print ('T')\n",
    "    elif a[i] == 'T':\n",
    "        print ('A')\n",
    "    elif a[i] == 'C':\n",
    "        print ('G')\n",
    "    else: \n",
    "        print ('C')\n",
    "    \n"
   ]
  },
  {
   "cell_type": "code",
   "execution_count": 30,
   "metadata": {},
   "outputs": [
    {
     "output_type": "stream",
     "name": "stdout",
     "text": "CTCG\n"
    }
   ],
   "source": [
    "a = a.replace('A','C')\n",
    "a = a.replace()\n",
    "print(a)"
   ]
  },
  {
   "cell_type": "code",
   "execution_count": 38,
   "metadata": {},
   "outputs": [
    {
     "output_type": "stream",
     "name": "stdout",
     "text": "CTCC\nGTGG\nCTCC\nCACC\n"
    }
   ],
   "source": [
    "for r in ((\"A\", \"T\"), (\"C\", \"G\"),(\"G\", \"C\"),(\"T\", \"A\")):\n",
    "    \n",
    "    a = a.replace(*r)\n",
    "    print(a)\n",
    "    "
   ]
  },
  {
   "cell_type": "code",
   "execution_count": 43,
   "metadata": {},
   "outputs": [
    {
     "output_type": "stream",
     "name": "stdout",
     "text": "AAGG\n"
    }
   ],
   "source": [
    "a = 'ATCG'\n",
    "a = a.replace('A','T').replace('T','A').replace('G','C').replace('C','G')\n",
    "print(a)"
   ]
  },
  {
   "cell_type": "code",
   "execution_count": 51,
   "metadata": {},
   "outputs": [],
   "source": [
    "a = 'ATCG'\n",
    "\n",
    "dna_complement_dict = {'A':'T','T':'A','G':'C','C':'G'}\n",
    "\n",
    "def DNA_strand(dna):\n",
    "    return ''.join([dna_complement_dict[nuc] for nuc in dna])\n"
   ]
  },
  {
   "cell_type": "code",
   "execution_count": 52,
   "metadata": {},
   "outputs": [
    {
     "output_type": "execute_result",
     "data": {
      "text/plain": "'TAGC'"
     },
     "metadata": {},
     "execution_count": 52
    }
   ],
   "source": [
    "DNA_strand(a)"
   ]
  },
  {
   "cell_type": "code",
   "execution_count": null,
   "metadata": {},
   "outputs": [],
   "source": []
  }
 ],
 "metadata": {
  "language_info": {
   "codemirror_mode": {
    "name": "ipython",
    "version": 3
   },
   "file_extension": ".py",
   "mimetype": "text/x-python",
   "name": "python",
   "nbconvert_exporter": "python",
   "pygments_lexer": "ipython3",
   "version": "3.7.4-final"
  },
  "orig_nbformat": 2,
  "kernelspec": {
   "name": "python3",
   "display_name": "Python 3"
  }
 },
 "nbformat": 4,
 "nbformat_minor": 2
}